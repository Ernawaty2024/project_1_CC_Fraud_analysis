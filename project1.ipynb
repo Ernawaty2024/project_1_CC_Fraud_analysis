{
 "cells": [
  {
   "cell_type": "code",
   "execution_count": 1,
   "metadata": {},
   "outputs": [],
   "source": [
    "# Loading dependencies.\n",
    "import matplotlib.pyplot as plt\n",
    "from pathlib import Path\n",
    "import pandas as pd\n",
    "import numpy as np\n",
    "from scipy.stats import linregress\n",
    "import requests\n",
    "import time\n"
   ]
  },
  {
   "cell_type": "code",
   "execution_count": 2,
   "metadata": {},
   "outputs": [
    {
     "data": {
      "text/html": [
       "<div>\n",
       "<style scoped>\n",
       "    .dataframe tbody tr th:only-of-type {\n",
       "        vertical-align: middle;\n",
       "    }\n",
       "\n",
       "    .dataframe tbody tr th {\n",
       "        vertical-align: top;\n",
       "    }\n",
       "\n",
       "    .dataframe thead th {\n",
       "        text-align: right;\n",
       "    }\n",
       "</style>\n",
       "<table border=\"1\" class=\"dataframe\">\n",
       "  <thead>\n",
       "    <tr style=\"text-align: right;\">\n",
       "      <th></th>\n",
       "      <th>Transaction Date and Time</th>\n",
       "      <th>Transaction Amount</th>\n",
       "      <th>Cardholder Name</th>\n",
       "      <th>Card Number (Hashed or Encrypted)</th>\n",
       "      <th>Merchant Name</th>\n",
       "      <th>Merchant Category Code (MCC)</th>\n",
       "      <th>Transaction Location (City or ZIP Code)</th>\n",
       "      <th>Transaction Currency</th>\n",
       "      <th>Card Type</th>\n",
       "      <th>Card Expiration Date</th>\n",
       "      <th>CVV Code (Hashed or Encrypted)</th>\n",
       "      <th>Transaction Response Code</th>\n",
       "      <th>Transaction ID</th>\n",
       "      <th>Fraud Flag or Label</th>\n",
       "      <th>Previous Transactions</th>\n",
       "      <th>Transaction Source</th>\n",
       "      <th>IP Address</th>\n",
       "      <th>Device Information</th>\n",
       "      <th>User Account Information</th>\n",
       "      <th>Transaction Notes</th>\n",
       "    </tr>\n",
       "  </thead>\n",
       "  <tbody>\n",
       "    <tr>\n",
       "      <th>0</th>\n",
       "      <td>2022-09-24 13:54:27</td>\n",
       "      <td>285.88</td>\n",
       "      <td>Shray Soman</td>\n",
       "      <td>daca51bffe0fc4eaaa7c430917f94b75fd893712492254...</td>\n",
       "      <td>Rajagopalan, Ghose and Kant</td>\n",
       "      <td>3590</td>\n",
       "      <td>Khammam</td>\n",
       "      <td>INR</td>\n",
       "      <td>MasterCard</td>\n",
       "      <td>04/29</td>\n",
       "      <td>01299ac65733b5a3d774265fbfe8396b8611e5e3321855...</td>\n",
       "      <td>5</td>\n",
       "      <td>b7f69cbc-a03d-41f8-adca-75920b0242c3</td>\n",
       "      <td>1</td>\n",
       "      <td>NaN</td>\n",
       "      <td>Online</td>\n",
       "      <td>18.106.240.6</td>\n",
       "      <td>Tablet</td>\n",
       "      <td>NaN</td>\n",
       "      <td>Consequatur corporis minima ad vero deserunt n...</td>\n",
       "    </tr>\n",
       "    <tr>\n",
       "      <th>1</th>\n",
       "      <td>2020-07-24 11:20:13</td>\n",
       "      <td>1777.32</td>\n",
       "      <td>Lakshit Bakshi</td>\n",
       "      <td>d5366dd9be3a0266c0252baceaa6332210ed4dbd0ef252...</td>\n",
       "      <td>Sule PLC</td>\n",
       "      <td>7277</td>\n",
       "      <td>Vasai-Virar</td>\n",
       "      <td>EUR</td>\n",
       "      <td>American Express</td>\n",
       "      <td>03/26</td>\n",
       "      <td>ad8fa913d25b3970c6efa8ca504da8ba670ce2a9cf012d...</td>\n",
       "      <td>12</td>\n",
       "      <td>ad53cc8e-8412-422e-8cad-4176daac8387</td>\n",
       "      <td>1</td>\n",
       "      <td>NaN</td>\n",
       "      <td>Online</td>\n",
       "      <td>212.48.185.128</td>\n",
       "      <td>Mobile</td>\n",
       "      <td>jloyal</td>\n",
       "      <td>Dolore repellendus odio deleniti. Eaque quibus...</td>\n",
       "    </tr>\n",
       "    <tr>\n",
       "      <th>2</th>\n",
       "      <td>2023-03-18 01:05:36</td>\n",
       "      <td>3939.01</td>\n",
       "      <td>Riya Bobal</td>\n",
       "      <td>4737a6384aa1c3c31f7768b86633d6a8401dd6ab4a8ff1...</td>\n",
       "      <td>Badal PLC</td>\n",
       "      <td>9297</td>\n",
       "      <td>Nangloi Jat</td>\n",
       "      <td>USD</td>\n",
       "      <td>Visa</td>\n",
       "      <td>11/29</td>\n",
       "      <td>eb3be230bbd2844b1f5d8f2e4fab9ffba8ab22cfeeb69c...</td>\n",
       "      <td>5</td>\n",
       "      <td>f09cecd6-0d74-4551-8089-a31d64e6b9c5</td>\n",
       "      <td>1</td>\n",
       "      <td>3 or more</td>\n",
       "      <td>In-Person</td>\n",
       "      <td>17.190.112.46</td>\n",
       "      <td>Mobile</td>\n",
       "      <td>NaN</td>\n",
       "      <td>Unde beatae perspiciatis sapiente. Voluptates ...</td>\n",
       "    </tr>\n",
       "    <tr>\n",
       "      <th>3</th>\n",
       "      <td>2021-01-07 21:53:04</td>\n",
       "      <td>376.44</td>\n",
       "      <td>Mohanlal Balakrishnan</td>\n",
       "      <td>4721806eed8f2663bb597ff13e79a294de318358fbb54b...</td>\n",
       "      <td>Konda-Sodhi</td>\n",
       "      <td>5686</td>\n",
       "      <td>Ramagundam</td>\n",
       "      <td>USD</td>\n",
       "      <td>Visa</td>\n",
       "      <td>09/25</td>\n",
       "      <td>891d46993a36d78392247c642138cede01d9841daab1d9...</td>\n",
       "      <td>5</td>\n",
       "      <td>b208ae0b-4c4f-428f-b6b9-5360b288b947</td>\n",
       "      <td>0</td>\n",
       "      <td>2</td>\n",
       "      <td>In-Person</td>\n",
       "      <td>153.136.24.104</td>\n",
       "      <td>Tablet</td>\n",
       "      <td>NaN</td>\n",
       "      <td>Cupiditate repellendus necessitatibus quo occa...</td>\n",
       "    </tr>\n",
       "    <tr>\n",
       "      <th>4</th>\n",
       "      <td>2021-12-16 06:22:24</td>\n",
       "      <td>1687.33</td>\n",
       "      <td>Mannat Rout</td>\n",
       "      <td>9deacc3a9efd6e382826d400620aca5f23ed94327578e5...</td>\n",
       "      <td>Dua Ltd</td>\n",
       "      <td>2940</td>\n",
       "      <td>Adoni</td>\n",
       "      <td>INR</td>\n",
       "      <td>MasterCard</td>\n",
       "      <td>03/31</td>\n",
       "      <td>48a1a756f2d83f1dc57bbf14052b70a6f40d0fceed6662...</td>\n",
       "      <td>5</td>\n",
       "      <td>6b4e4e43-5b73-4906-9973-299a1b2a5e71</td>\n",
       "      <td>1</td>\n",
       "      <td>2</td>\n",
       "      <td>Online</td>\n",
       "      <td>196.153.28.131</td>\n",
       "      <td>Desktop</td>\n",
       "      <td>NaN</td>\n",
       "      <td>Molestias assumenda consectetur itaque veritat...</td>\n",
       "    </tr>\n",
       "  </tbody>\n",
       "</table>\n",
       "</div>"
      ],
      "text/plain": [
       "  Transaction Date and Time  Transaction Amount        Cardholder Name  \\\n",
       "0       2022-09-24 13:54:27              285.88            Shray Soman   \n",
       "1       2020-07-24 11:20:13             1777.32         Lakshit Bakshi   \n",
       "2       2023-03-18 01:05:36             3939.01             Riya Bobal   \n",
       "3       2021-01-07 21:53:04              376.44  Mohanlal Balakrishnan   \n",
       "4       2021-12-16 06:22:24             1687.33            Mannat Rout   \n",
       "\n",
       "                   Card Number (Hashed or Encrypted)  \\\n",
       "0  daca51bffe0fc4eaaa7c430917f94b75fd893712492254...   \n",
       "1  d5366dd9be3a0266c0252baceaa6332210ed4dbd0ef252...   \n",
       "2  4737a6384aa1c3c31f7768b86633d6a8401dd6ab4a8ff1...   \n",
       "3  4721806eed8f2663bb597ff13e79a294de318358fbb54b...   \n",
       "4  9deacc3a9efd6e382826d400620aca5f23ed94327578e5...   \n",
       "\n",
       "                 Merchant Name  Merchant Category Code (MCC)  \\\n",
       "0  Rajagopalan, Ghose and Kant                          3590   \n",
       "1                     Sule PLC                          7277   \n",
       "2                    Badal PLC                          9297   \n",
       "3                  Konda-Sodhi                          5686   \n",
       "4                      Dua Ltd                          2940   \n",
       "\n",
       "  Transaction Location (City or ZIP Code) Transaction Currency  \\\n",
       "0                                 Khammam                  INR   \n",
       "1                             Vasai-Virar                  EUR   \n",
       "2                             Nangloi Jat                  USD   \n",
       "3                              Ramagundam                  USD   \n",
       "4                                   Adoni                  INR   \n",
       "\n",
       "          Card Type Card Expiration Date  \\\n",
       "0        MasterCard                04/29   \n",
       "1  American Express                03/26   \n",
       "2              Visa                11/29   \n",
       "3              Visa                09/25   \n",
       "4        MasterCard                03/31   \n",
       "\n",
       "                      CVV Code (Hashed or Encrypted)  \\\n",
       "0  01299ac65733b5a3d774265fbfe8396b8611e5e3321855...   \n",
       "1  ad8fa913d25b3970c6efa8ca504da8ba670ce2a9cf012d...   \n",
       "2  eb3be230bbd2844b1f5d8f2e4fab9ffba8ab22cfeeb69c...   \n",
       "3  891d46993a36d78392247c642138cede01d9841daab1d9...   \n",
       "4  48a1a756f2d83f1dc57bbf14052b70a6f40d0fceed6662...   \n",
       "\n",
       "   Transaction Response Code                        Transaction ID  \\\n",
       "0                          5  b7f69cbc-a03d-41f8-adca-75920b0242c3   \n",
       "1                         12  ad53cc8e-8412-422e-8cad-4176daac8387   \n",
       "2                          5  f09cecd6-0d74-4551-8089-a31d64e6b9c5   \n",
       "3                          5  b208ae0b-4c4f-428f-b6b9-5360b288b947   \n",
       "4                          5  6b4e4e43-5b73-4906-9973-299a1b2a5e71   \n",
       "\n",
       "   Fraud Flag or Label Previous Transactions Transaction Source  \\\n",
       "0                    1                   NaN             Online   \n",
       "1                    1                   NaN             Online   \n",
       "2                    1             3 or more          In-Person   \n",
       "3                    0                     2          In-Person   \n",
       "4                    1                     2             Online   \n",
       "\n",
       "       IP Address Device Information User Account Information  \\\n",
       "0    18.106.240.6             Tablet                      NaN   \n",
       "1  212.48.185.128             Mobile                   jloyal   \n",
       "2   17.190.112.46             Mobile                      NaN   \n",
       "3  153.136.24.104             Tablet                      NaN   \n",
       "4  196.153.28.131            Desktop                      NaN   \n",
       "\n",
       "                                   Transaction Notes  \n",
       "0  Consequatur corporis minima ad vero deserunt n...  \n",
       "1  Dolore repellendus odio deleniti. Eaque quibus...  \n",
       "2  Unde beatae perspiciatis sapiente. Voluptates ...  \n",
       "3  Cupiditate repellendus necessitatibus quo occa...  \n",
       "4  Molestias assumenda consectetur itaque veritat...  "
      ]
     },
     "execution_count": 2,
     "metadata": {},
     "output_type": "execute_result"
    }
   ],
   "source": [
    "# Path to csv.\n",
    "card_fraud_path_load = Path(\"resource/credit_card_fraud.csv\")\n",
    "card_data = pd.read_csv(card_fraud_path_load)\n",
    "card_data.head()"
   ]
  },
  {
   "cell_type": "code",
   "execution_count": 3,
   "metadata": {},
   "outputs": [
    {
     "name": "stdout",
     "output_type": "stream",
     "text": [
      "<class 'pandas.core.frame.DataFrame'>\n",
      "RangeIndex: 8000 entries, 0 to 7999\n",
      "Data columns (total 20 columns):\n",
      " #   Column                                   Non-Null Count  Dtype  \n",
      "---  ------                                   --------------  -----  \n",
      " 0   Transaction Date and Time                8000 non-null   object \n",
      " 1   Transaction Amount                       8000 non-null   float64\n",
      " 2   Cardholder Name                          8000 non-null   object \n",
      " 3   Card Number (Hashed or Encrypted)        8000 non-null   object \n",
      " 4   Merchant Name                            8000 non-null   object \n",
      " 5   Merchant Category Code (MCC)             8000 non-null   int64  \n",
      " 6   Transaction Location (City or ZIP Code)  8000 non-null   object \n",
      " 7   Transaction Currency                     8000 non-null   object \n",
      " 8   Card Type                                8000 non-null   object \n",
      " 9   Card Expiration Date                     8000 non-null   object \n",
      " 10  CVV Code (Hashed or Encrypted)           8000 non-null   object \n",
      " 11  Transaction Response Code                8000 non-null   int64  \n",
      " 12  Transaction ID                           8000 non-null   object \n",
      " 13  Fraud Flag or Label                      8000 non-null   int64  \n",
      " 14  Previous Transactions                    5957 non-null   object \n",
      " 15  Transaction Source                       8000 non-null   object \n",
      " 16  IP Address                               8000 non-null   object \n",
      " 17  Device Information                       8000 non-null   object \n",
      " 18  User Account Information                 3990 non-null   object \n",
      " 19  Transaction Notes                        8000 non-null   object \n",
      "dtypes: float64(1), int64(3), object(16)\n",
      "memory usage: 1.2+ MB\n"
     ]
    }
   ],
   "source": [
    "# General info on data.\n",
    "card_data.info()"
   ]
  },
  {
   "cell_type": "code",
   "execution_count": 4,
   "metadata": {},
   "outputs": [
    {
     "name": "stdout",
     "output_type": "stream",
     "text": [
      "There are 3989 fraud or flag or labeled transactions in the dataset.\n",
      "There are 4011 valid transactions in the dataset.\n"
     ]
    }
   ],
   "source": [
    "# Counted how many (potential) fraud or valid transactions there are in the data.\n",
    "fraud_data = card_data[card_data['Fraud Flag or Label'] == 1]\n",
    "fraud_data_count = len(fraud_data)\n",
    "valid_data_row = card_data[card_data['Fraud Flag or Label'] == 0]\n",
    "valid_data_count = len(valid_data_row)\n",
    "print(f\"There are {fraud_data_count} fraud or flag or labeled transactions in the dataset.\")\n",
    "print(f\"There are {valid_data_count} valid transactions in the dataset.\")"
   ]
  },
  {
   "cell_type": "code",
   "execution_count": 5,
   "metadata": {},
   "outputs": [
    {
     "data": {
      "text/plain": [
       "Cardholder Name\n",
       "Diya Rajagopalan       3\n",
       "Trisha Ghose           3\n",
       "Eva Balasubramanian    3\n",
       "Mamooty Chaudhuri      3\n",
       "Uthkarsh Soman         3\n",
       "                      ..\n",
       "Madhup Rajagopal       1\n",
       "Azad Yadav             1\n",
       "Mahika Edwin           1\n",
       "Arhaan Soman           1\n",
       "Alia Bose              1\n",
       "Name: count, Length: 7651, dtype: int64"
      ]
     },
     "execution_count": 5,
     "metadata": {},
     "output_type": "execute_result"
    }
   ],
   "source": [
    "card_data['Cardholder Name'].value_counts()"
   ]
  },
  {
   "cell_type": "code",
   "execution_count": 6,
   "metadata": {},
   "outputs": [
    {
     "data": {
      "text/plain": [
       "Cardholder Name\n",
       "Tiya Dugar       3\n",
       "Arhaan Kata      2\n",
       "Gatik Sethi      2\n",
       "Dhanuk Sekhon    2\n",
       "Dhanuk Doshi     2\n",
       "                ..\n",
       "Hiran Talwar     1\n",
       "Hiran Tandon     1\n",
       "Hridaan Bains    1\n",
       "Hridaan Brar     1\n",
       "Zoya Yadav       1\n",
       "Length: 3900, dtype: int64"
      ]
     },
     "execution_count": 6,
     "metadata": {},
     "output_type": "execute_result"
    }
   ],
   "source": [
    "# Cardholder names that has fraud or flag or labeled transactions. (more than 1 means multiple transactions.)\n",
    "fraudulent_cardholder = fraud_data.groupby(['Cardholder Name']).size()\n",
    "fraudulent_cardholder.sort_values(ascending=False)"
   ]
  },
  {
   "cell_type": "code",
   "execution_count": 7,
   "metadata": {},
   "outputs": [
    {
     "data": {
      "text/plain": [
       "0"
      ]
     },
     "execution_count": 7,
     "metadata": {},
     "output_type": "execute_result"
    }
   ],
   "source": [
    "# Checking to see if there is any null value in the column.\n",
    "card_data['Transaction Date and Time'].isnull().sum()"
   ]
  },
  {
   "cell_type": "code",
   "execution_count": 8,
   "metadata": {},
   "outputs": [
    {
     "data": {
      "text/plain": [
       "0   2022-09-24 13:54:27\n",
       "1   2020-07-24 11:20:13\n",
       "2   2023-03-18 01:05:36\n",
       "3   2021-01-07 21:53:04\n",
       "4   2021-12-16 06:22:24\n",
       "Name: Transaction Date and Time, dtype: datetime64[ns]"
      ]
     },
     "execution_count": 8,
     "metadata": {},
     "output_type": "execute_result"
    }
   ],
   "source": [
    "# Formatted the column into a date form.\n",
    "card_data_transaction_date = pd.to_datetime(card_data['Transaction Date and Time'], format ='%Y-%m-%d %H:%M:%S')\n",
    "card_data_expiration_date = pd.to_datetime(card_data['Card Expiration Date'], format='%m/%y')\n",
    "\n",
    "card_data_transaction_date.head()"
   ]
  },
  {
   "cell_type": "code",
   "execution_count": 9,
   "metadata": {},
   "outputs": [],
   "source": [
    "# Create a copy of the fraudulent transactions data\n",
    "fraud_data = card_data[card_data['Fraud Flag or Label'] == 1].copy()\n",
    "\n",
    "# Convert the 'Transaction Date and Time' column to datetime\n",
    "fraud_data['Transaction Date and Time'] = pd.to_datetime(fraud_data['Transaction Date and Time'], format ='%Y-%m-%d %H:%M:%S')\n",
    "\n",
    "# Extract the month from the transaction date\n",
    "fraud_data['Month'] = fraud_data['Transaction Date and Time'].dt.month\n",
    "\n",
    "# Group by month and count the number of transactions\n",
    "fraud_transactions_per_month = fraud_data.groupby('Month').size()\n"
   ]
  },
  {
   "cell_type": "code",
   "execution_count": 10,
   "metadata": {},
   "outputs": [],
   "source": [
    "# Seperated all the date data into 'year', 'month', 'day'.\n",
    "card_data_transaction_year = card_data_transaction_date.dt.year\n",
    "card_data_transaction_month = card_data_transaction_date.dt.month\n",
    "card_data_transaction_day = card_data_transaction_date.dt.day"
   ]
  },
  {
   "cell_type": "code",
   "execution_count": 11,
   "metadata": {},
   "outputs": [
    {
     "data": {
      "image/png": "[encoded data removed]",
      "text/plain": [
       "<Figure size 640x480 with 1 Axes>"
      ]
     },
     "metadata": {},
     "output_type": "display_data"
    }
   ],
   "source": [
    "# Histogram for transaction date distribution.\n",
    "plt.hist(card_data_transaction_date, bins=50, edgecolor='white')\n",
    "plt.title(\"Transactions date distribution\")\n",
    "plt.xlabel(\"transaction_date\")\n",
    "plt.xticks(rotation=90, ha='center')\n",
    "plt.show()"
   ]
  },
  {
   "cell_type": "code",
   "execution_count": 12,
   "metadata": {},
   "outputs": [
    {
     "data": {
      "text/html": [
       "<div>\n",
       "<style scoped>\n",
       "    .dataframe tbody tr th:only-of-type {\n",
       "        vertical-align: middle;\n",
       "    }\n",
       "\n",
       "    .dataframe tbody tr th {\n",
       "        vertical-align: top;\n",
       "    }\n",
       "\n",
       "    .dataframe thead th {\n",
       "        text-align: right;\n",
       "    }\n",
       "</style>\n",
       "<table border=\"1\" class=\"dataframe\">\n",
       "  <thead>\n",
       "    <tr style=\"text-align: right;\">\n",
       "      <th></th>\n",
       "      <th>Year</th>\n",
       "      <th>Transaction per year</th>\n",
       "    </tr>\n",
       "  </thead>\n",
       "  <tbody>\n",
       "    <tr>\n",
       "      <th>0</th>\n",
       "      <td>2020</td>\n",
       "      <td>2114</td>\n",
       "    </tr>\n",
       "    <tr>\n",
       "      <th>1</th>\n",
       "      <td>2021</td>\n",
       "      <td>2137</td>\n",
       "    </tr>\n",
       "    <tr>\n",
       "      <th>2</th>\n",
       "      <td>2022</td>\n",
       "      <td>2134</td>\n",
       "    </tr>\n",
       "    <tr>\n",
       "      <th>3</th>\n",
       "      <td>2023</td>\n",
       "      <td>1615</td>\n",
       "    </tr>\n",
       "  </tbody>\n",
       "</table>\n",
       "</div>"
      ],
      "text/plain": [
       "   Year  Transaction per year\n",
       "0  2020                  2114\n",
       "1  2021                  2137\n",
       "2  2022                  2134\n",
       "3  2023                  1615"
      ]
     },
     "execution_count": 12,
     "metadata": {},
     "output_type": "execute_result"
    }
   ],
   "source": [
    "# Created new columns regarding year.\n",
    "transactions_per_year = card_data.groupby(card_data_transaction_year).size()\n",
    "transactions_per_year = transactions_per_year.reset_index()\n",
    "transactions_per_year.columns = ['Year', 'Transaction per year']\n",
    "transactions_per_year\n"
   ]
  },
  {
   "cell_type": "code",
   "execution_count": 13,
   "metadata": {},
   "outputs": [
    {
     "data": {
      "image/png": "[encoded data removed]",
      "text/plain": [
       "<Figure size 640x480 with 1 Axes>"
      ]
     },
     "metadata": {},
     "output_type": "display_data"
    }
   ],
   "source": [
    "# Created bar graph to show transactions per year.\n",
    "x_axis = transactions_per_year['Year']\n",
    "y_axis = transactions_per_year['Transaction per year']\n",
    "\n",
    "tick_locations = []\n",
    "\n",
    "for x in x_axis:\n",
    "    tick_locations.append(x)\n",
    "\n",
    "plt.bar(x_axis, y_axis, color=\"darkblue\", alpha=0.9, align=\"center\", width=0.55)\n",
    "plt.xticks(tick_locations, rotation=90, ha='center')\n",
    "plt.title(\"# of transactions per year \")\n",
    "plt.xlabel(\"Year\")\n",
    "plt.ylabel(\"# of Transactions\")\n",
    "plt.show()"
   ]
  },
  {
   "cell_type": "code",
   "execution_count": 14,
   "metadata": {},
   "outputs": [
    {
     "data": {
      "text/html": [
       "<div>\n",
       "<style scoped>\n",
       "    .dataframe tbody tr th:only-of-type {\n",
       "        vertical-align: middle;\n",
       "    }\n",
       "\n",
       "    .dataframe tbody tr th {\n",
       "        vertical-align: top;\n",
       "    }\n",
       "\n",
       "    .dataframe thead th {\n",
       "        text-align: right;\n",
       "    }\n",
       "</style>\n",
       "<table border=\"1\" class=\"dataframe\">\n",
       "  <thead>\n",
       "    <tr style=\"text-align: right;\">\n",
       "      <th></th>\n",
       "      <th>Month</th>\n",
       "      <th>Transactions per month</th>\n",
       "    </tr>\n",
       "  </thead>\n",
       "  <tbody>\n",
       "    <tr>\n",
       "      <th>0</th>\n",
       "      <td>1</td>\n",
       "      <td>672</td>\n",
       "    </tr>\n",
       "    <tr>\n",
       "      <th>1</th>\n",
       "      <td>2</td>\n",
       "      <td>634</td>\n",
       "    </tr>\n",
       "    <tr>\n",
       "      <th>2</th>\n",
       "      <td>3</td>\n",
       "      <td>747</td>\n",
       "    </tr>\n",
       "    <tr>\n",
       "      <th>3</th>\n",
       "      <td>4</td>\n",
       "      <td>670</td>\n",
       "    </tr>\n",
       "    <tr>\n",
       "      <th>4</th>\n",
       "      <td>5</td>\n",
       "      <td>743</td>\n",
       "    </tr>\n",
       "    <tr>\n",
       "      <th>5</th>\n",
       "      <td>6</td>\n",
       "      <td>721</td>\n",
       "    </tr>\n",
       "    <tr>\n",
       "      <th>6</th>\n",
       "      <td>7</td>\n",
       "      <td>710</td>\n",
       "    </tr>\n",
       "    <tr>\n",
       "      <th>7</th>\n",
       "      <td>8</td>\n",
       "      <td>710</td>\n",
       "    </tr>\n",
       "    <tr>\n",
       "      <th>8</th>\n",
       "      <td>9</td>\n",
       "      <td>721</td>\n",
       "    </tr>\n",
       "    <tr>\n",
       "      <th>9</th>\n",
       "      <td>10</td>\n",
       "      <td>569</td>\n",
       "    </tr>\n",
       "    <tr>\n",
       "      <th>10</th>\n",
       "      <td>11</td>\n",
       "      <td>538</td>\n",
       "    </tr>\n",
       "    <tr>\n",
       "      <th>11</th>\n",
       "      <td>12</td>\n",
       "      <td>565</td>\n",
       "    </tr>\n",
       "  </tbody>\n",
       "</table>\n",
       "</div>"
      ],
      "text/plain": [
       "    Month  Transactions per month\n",
       "0       1                     672\n",
       "1       2                     634\n",
       "2       3                     747\n",
       "3       4                     670\n",
       "4       5                     743\n",
       "5       6                     721\n",
       "6       7                     710\n",
       "7       8                     710\n",
       "8       9                     721\n",
       "9      10                     569\n",
       "10     11                     538\n",
       "11     12                     565"
      ]
     },
     "execution_count": 14,
     "metadata": {},
     "output_type": "execute_result"
    }
   ],
   "source": [
    "# Created new columns regarding month.\n",
    "transactions_per_month = card_data.groupby(card_data_transaction_month).size()\n",
    "transactions_per_month = transactions_per_month.reset_index()\n",
    "transactions_per_month.columns = ['Month', 'Transactions per month']\n",
    "transactions_per_month"
   ]
  },
  {
   "cell_type": "code",
   "execution_count": 15,
   "metadata": {},
   "outputs": [
    {
     "data": {
      "image/png": "[encoded data removed]",
      "text/plain": [
       "<Figure size 640x480 with 1 Axes>"
      ]
     },
     "metadata": {},
     "output_type": "display_data"
    }
   ],
   "source": [
    "# Created bar graph to show transactions per month. (1 = January)\n",
    "x_axis = transactions_per_month['Month']\n",
    "y_axis = transactions_per_month['Transactions per month']\n",
    "\n",
    "plt.plot(x_axis, y_axis, color=\"darkblue\", alpha=0.9)\n",
    "plt.title(\"# of transactions per month\")\n",
    "plt.xlabel(\"Month\")\n",
    "plt.ylabel(\"# of Transactions\")\n",
    "plt.show()"
   ]
  },
  {
   "cell_type": "code",
   "execution_count": 16,
   "metadata": {},
   "outputs": [
    {
     "data": {
      "image/png": "[encoded data removed]",
      "text/plain": [
       "<Figure size 640x480 with 1 Axes>"
      ]
     },
     "metadata": {},
     "output_type": "display_data"
    }
   ],
   "source": [
    "# Plot the number of fraudulent transactions per month\n",
    "x_axis = fraud_transactions_per_month.index\n",
    "y_axis = fraud_transactions_per_month.values\n",
    "\n",
    "plt.plot(x_axis, y_axis, color=\"darkblue\", alpha=0.9)\n",
    "plt.title(\"# of Fraudulent Transactions per Month\")\n",
    "plt.xlabel(\"Month\")\n",
    "plt.ylabel(\"# of Fraudulent Transactions\")\n",
    "plt.show()"
   ]
  }
 ],
 "metadata": {
  "kernelspec": {
   "display_name": "dev",
   "language": "python",
   "name": "python3"
  },
  "language_info": {
   "codemirror_mode": {
    "name": "ipython",
    "version": 3
   },
   "file_extension": ".py",
   "mimetype": "text/x-python",
   "name": "python",
   "nbconvert_exporter": "python",
   "pygments_lexer": "ipython3",
   "version": "3.10.14"
  }
 },
 "nbformat": 4,
 "nbformat_minor": 2
}
