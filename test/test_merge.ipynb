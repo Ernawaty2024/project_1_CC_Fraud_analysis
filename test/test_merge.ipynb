{
 "cells": [
  {
   "cell_type": "code",
   "execution_count": null,
   "metadata": {},
   "outputs": [],
   "source": [
    "# Loading dependencies.\n",
    "import matplotlib.pyplot as plt\n",
    "from pathlib import Path\n",
    "import pandas as pd\n",
    "import numpy as np\n",
    "from scipy.stats import linregress\n",
    "import requests\n",
    "import time\n",
    "from api_key import ip_api_key\n",
    "from api_key import ip_api_key2\n",
    "from api_key import ip_api_key3\n",
    "from api_key import ip_api_key4\n",
    "from datetime import datetime\n",
    "from scipy.stats import f_oneway\n",
    "import statsmodels.api as sm\n",
    "from statsmodels.formula.api import ols\n",
    "import hvplot.pandas\n",
    "from holoviews.util.transform import lon_lat_to_easting_northing"
   ]
  },
  {
   "cell_type": "code",
   "execution_count": null,
   "metadata": {},
   "outputs": [],
   "source": [
    "# Combined the four csv files for IP Geolocation Data \n",
    "# Define file paths\n",
    "file_paths = [\n",
    "    Path(\"resource/ernie_ip_asn_geolocation_data.csv\"),\n",
    "    Path(\"resource/jimmy_ip_asn_geolocation_data.csv\"),\n",
    "    Path(\"resource/thet_ip_asn_geolocation_data.csv\"),\n",
    "    Path(\"resource/mounika_ip_asn_geolocation_data.csv\")\n",
    "]\n",
    "\n",
    "# Load each CSV file into a separate DataFrame\n",
    "dataframes = [pd.read_csv(file_path) for file_path in file_paths]\n",
    "\n",
    "# Combine all DataFrames into a single DataFrame\n",
    "combined_df = pd.concat(dataframes, ignore_index=True)\n",
    "\n",
    "# Optionally, save the combined DataFrame to a new CSV file\n",
    "combined_df.to_csv(\"resource/combined_file.csv\", index=False)\n",
    "\n",
    "# Display the first few rows of the combined DataFrame\n",
    "print(combined_df.head())"
   ]
  },
  {
   "cell_type": "code",
   "execution_count": null,
   "metadata": {},
   "outputs": [],
   "source": [
    "# Merge the combined_df into the merged_file\n",
    "# Load the credit card fraud data\n",
    "credit_card_fraud_file_path = Path(\"resource/credit_card_fraud.csv\")\n",
    "credit_card_fraud_df = pd.read_csv(credit_card_fraud_file_path)\n",
    "\n",
    "# Merge combined_df with credit_card_fraud_df on 'Transaction ID'\n",
    "merged_df = pd.merge(combined_df, credit_card_fraud_df, on='Transaction ID', how='outer')\n",
    "\n",
    "output_path = Path(\"resource/merged_file.csv\")\n",
    "merged_df.to_csv(output_path, index=False)"
   ]
  }
 ],
 "metadata": {
  "language_info": {
   "name": "python"
  }
 },
 "nbformat": 4,
 "nbformat_minor": 2
}
